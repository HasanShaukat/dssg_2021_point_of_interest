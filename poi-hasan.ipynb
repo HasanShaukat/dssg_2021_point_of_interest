{
 "cells": [
  {
   "cell_type": "code",
   "execution_count": null,
   "metadata": {
    "tags": []
   },
   "outputs": [],
   "source": [
    "import contextily as cx\n",
    "import pandas as pd\n",
    "import geopandas\n",
    "\n",
    "import seaborn as sns\n",
    "sns.set_theme(style=\"whitegrid\")"
   ]
  },
  {
   "cell_type": "markdown",
   "metadata": {
    "pycharm": {
     "name": "#%% md\n"
    }
   },
   "source": [
    "## Loading data"
   ]
  },
  {
   "cell_type": "code",
   "execution_count": null,
   "metadata": {
    "collapsed": false,
    "jupyter": {
     "outputs_hidden": false
    },
    "pycharm": {
     "name": "#%%\n"
    }
   },
   "outputs": [],
   "source": [
    "lor_gdf = geopandas.read_file(\"lor_friedrichshain_kreuzberg.GeoJSON\")\n",
    "estimated_parking_spots_kfz_gdf = geopandas.read_file(\"estimated_parking_spots_kfz.geojson\")\n",
    "cartagger_gdf = geopandas.read_file('counted_cars_from_cartagger_project.geojson')"
   ]
  },
  {
   "cell_type": "code",
   "execution_count": null,
   "metadata": {},
   "outputs": [],
   "source": [
    "# Imports\n",
    "import osmnx as ox\n",
    "import geopandas as gpd\n",
    "import pandas as pd\n",
    "import matplotlib.pyplot as plt\n",
    "import numpy as np\n",
    "\n",
    "\n",
    "def get_osm_data(lor_gdf, tags, crs=\"EPSG:25833\", location=\"Berlin, Germany\"):\n",
    "    # Load data\n",
    "    try:\n",
    "        lor_gdf = gpd.read_file(lor_gdf)\n",
    "    except:\n",
    "        print(\"Can't load LOR file\")\n",
    "    # Obtain coordinates of POIs\n",
    "    poi = ox.geometries_from_place(location, tags=tags)\n",
    "    poi_points = poi[poi.geom_type == \"Point\"]\n",
    "\n",
    "    # Drop unnecessary (debatable) information\n",
    "    poi = poi_points.dropna(axis=1)\n",
    "    poi[\"name\"] = poi_points[\"name\"]\n",
    "\n",
    "    # Project to the same coordinate system\n",
    "    poi = poi.to_crs(crs)\n",
    "\n",
    "    # We look for the intersection of all pois and our Bezirk\n",
    "    poi_lor = gpd.sjoin(poi, lor_gdf, predicate=\"intersects\")\n",
    "\n",
    "    return poi_lor\n",
    "\n",
    "\n",
    "def calc_parking_spots(poi_lor, cars, est_parking_spots, buffer_size=20):\n",
    "    # Load data\n",
    "    try:\n",
    "        est_parking_spots = gpd.read_file(est_parking_spots)\n",
    "    except:\n",
    "        print(\"Can't load parking spots file\")\n",
    "\n",
    "    # Define a circular region around each poi\n",
    "    poi_lor_buffered = poi_lor.copy()\n",
    "    poi_lor_buffered[\"geometry\"] = poi_lor[\"geometry\"].buffer(buffer_size)\n",
    "    poi_lor_buffered = poi_lor_buffered.drop(labels=[\"index_right\"], axis=1)\n",
    "\n",
    "    # Intersect parking spots and area\n",
    "    intersect_parking = gpd.sjoin(poi_lor_buffered, est_parking_spots)\n",
    "    # Intersect tagged cars and area\n",
    "    intersect_cars = gpd.sjoin(poi_lor_buffered, cars[cars.in_motion == 0].to_crs(25833))\n",
    "    \n",
    "\n",
    "    # Calculate parking spots\n",
    "    intersect_parking[\"capacity\"] = intersect_parking[\"capacity\"].apply(int)\n",
    "    dfpivot = pd.pivot_table(\n",
    "        intersect_parking,\n",
    "        index=\"name_left\",\n",
    "        columns=\"capacity\",\n",
    "        aggfunc={\"capacity\": len},\n",
    "    )\n",
    "    dfpivot.columns = dfpivot.columns.droplevel()\n",
    "    dfpivot.index.names = [\"name\"]\n",
    "    parking_counts = dfpivot.sum(axis=1)\n",
    "    parking_counts = parking_counts.to_frame(\"No. parking spots\")\n",
    "    \n",
    "    # Calculate tagged cars\n",
    "    #intersect_cars[\"capacity\"] = intersect_cars[\"capacity\"]\n",
    "    dfpivot = pd.pivot_table(\n",
    "        intersect_cars,\n",
    "        index=\"name\",\n",
    "        columns=\"size\",\n",
    "        aggfunc={\"size\": len},\n",
    "    )\n",
    "    dfpivot.columns = dfpivot.columns.droplevel()\n",
    "    dfpivot.index.names = [\"name\"]\n",
    "    car_counts = dfpivot.sum(axis=1)\n",
    "    car_counts = car_counts.to_frame(\"No. cars tagged\")\n",
    "\n",
    "    # Merge back with the main dataframe\n",
    "    poi_lor_counts = poi_lor.merge(parking_counts.reset_index(), on=\"name\", how=\"left\")\n",
    "    poi_lor_counts = poi_lor_counts.merge(car_counts.reset_index(), on=\"name\", how=\"left\")\n",
    "    \n",
    "    poi_lor_counts[\"No. parking spots\"] = poi_lor_counts[\"No. parking spots\"].fillna(0)\n",
    "    poi_lor_counts[\"No. cars tagged\"] = poi_lor_counts[\"No. cars tagged\"].fillna(0)\n",
    "    poi_lor_counts['parking_consumption'] = poi_lor_counts['No. cars tagged'] / poi_lor_counts['No. parking spots']\n",
    "    poi_lor_counts['name'] = poi_lor_counts['name'].fillna('none')\n",
    "    poi_lor_counts['parking_consumption'] = poi_lor_counts['parking_consumption'].fillna(0)\n",
    "    poi_lor_counts['parking_consumption'] = np.nan_to_num(poi_lor_counts['parking_consumption'])\n",
    "    poi_lor_counts.loc[poi_lor_counts['parking_consumption'] > 1000, 'parking_consumption'] = poi_lor_counts['No. cars tagged']\n",
    "    \n",
    "    \n",
    "    #poi_lor_buffered[\"No. parking spots\"] = poi_lor_counts[\"No. parking spots\"].fillna(0)\n",
    "\n",
    "    return poi_lor_counts, poi_lor_buffered"
   ]
  },
  {
   "cell_type": "code",
   "execution_count": null,
   "metadata": {},
   "outputs": [],
   "source": [
    "# Usage:\n",
    "poi_lor = get_osm_data(\n",
    "    r\"data-ambassadors-parking-project/data/raw/friedrichshain-kreuzberg\"+\"/lor_friedrichshain_kreuzberg.GeoJSON\",\n",
    "    {\"amenity\": True, \"shops\":True},\n",
    "    )"
   ]
  },
  {
   "cell_type": "code",
   "execution_count": null,
   "metadata": {},
   "outputs": [],
   "source": [
    "parking_counts, parking_counts_buffered = calc_parking_spots(\n",
    "    poi_lor, cartagger_gdf,\n",
    "    r\"data-ambassadors-parking-project/data/datathon\"+\"/parking/estimated_parking_spots_kfz.geojson\",\n",
    "    40,\n",
    "    )\n",
    "parking_counts.head()"
   ]
  },
  {
   "cell_type": "code",
   "execution_count": null,
   "metadata": {},
   "outputs": [],
   "source": [
    "parking_counts[parking_counts.amenity=='driving_school']"
   ]
  },
  {
   "cell_type": "code",
   "execution_count": null,
   "metadata": {},
   "outputs": [],
   "source": [
    "grouped_mean = parking_counts.groupby('amenity').sum().sort_values('No. cars tagged', ascending=False) # No. parking spots\n",
    "grouped_mean['parking_consumption'] = grouped_mean['No. cars tagged'] / grouped_mean['No. parking spots']\n",
    "grouped_mean.head(10)"
   ]
  },
  {
   "cell_type": "code",
   "execution_count": null,
   "metadata": {},
   "outputs": [],
   "source": [
    "plt.figure(figsize=(10,5))\n",
    "ax = sns.barplot(x=\"amenity\", y=\"No. cars tagged\", data=grouped_mean.reset_index().iloc[:7])"
   ]
  },
  {
   "cell_type": "code",
   "execution_count": null,
   "metadata": {},
   "outputs": [],
   "source": [
    "plt.figure(figsize=(10,5))\n",
    "ax = sns.barplot(x=\"amenity\", y=\"No. parking spots\", data=grouped_mean.reset_index().iloc[:7])"
   ]
  },
  {
   "cell_type": "code",
   "execution_count": null,
   "metadata": {},
   "outputs": [],
   "source": [
    "plt.figure(figsize=(10,5))\n",
    "ax = sns.barplot(x=\"amenity\", y=\"parking_consumption\", data=grouped_mean.reset_index().iloc[:7])"
   ]
  },
  {
   "cell_type": "code",
   "execution_count": null,
   "metadata": {},
   "outputs": [],
   "source": [
    "parking_counts.describe()"
   ]
  },
  {
   "cell_type": "code",
   "execution_count": null,
   "metadata": {
    "scrolled": true,
    "tags": []
   },
   "outputs": [],
   "source": [
    "len(parking_counts.amenity.unique().tolist())"
   ]
  },
  {
   "cell_type": "code",
   "execution_count": null,
   "metadata": {},
   "outputs": [],
   "source": [
    "parking_counts_buffered.explore(m=estimated_parking_spots_kfz_gdf.explore(m=cartagger_gdf.explore()))"
   ]
  },
  {
   "cell_type": "code",
   "execution_count": null,
   "metadata": {},
   "outputs": [],
   "source": []
  },
  {
   "cell_type": "code",
   "execution_count": null,
   "metadata": {},
   "outputs": [],
   "source": []
  }
 ],
 "metadata": {
  "kernelspec": {
   "display_name": "Python 3 (ipykernel)",
   "language": "python",
   "name": "python3"
  },
  "language_info": {
   "codemirror_mode": {
    "name": "ipython",
    "version": 3
   },
   "file_extension": ".py",
   "mimetype": "text/x-python",
   "name": "python",
   "nbconvert_exporter": "python",
   "pygments_lexer": "ipython3",
   "version": "3.8.10"
  }
 },
 "nbformat": 4,
 "nbformat_minor": 4
}
